{
 "cells": [
  {
   "cell_type": "code",
   "execution_count": 1,
   "metadata": {},
   "outputs": [],
   "source": [
    "import pandas as pd\n",
    "import seaborn as sns\n",
    "import numpy as np\n",
    "import matplotlib.pyplot as plt\n",
    "from cassandrautils import *\n"
   ]
  },
  {
   "cell_type": "code",
   "execution_count": null,
   "metadata": {},
   "outputs": [],
   "source": [
    "weather = getWeatherDF()\n",
    "faker = getFakerDF()\n",
    "\n",
    "weather['forecast_timestamp'] = pd.to_datetime(weather['forecastdate'], format=\"%d-%m-%Y %H:%M\")\n",
    "print(\"Weather from \", weather['forecast_timestamp'].min(), \" To \", weather['forecast_timestamp'].max())"
   ]
  },
  {
   "cell_type": "code",
   "execution_count": null,
   "metadata": {},
   "outputs": [],
   "source": [
    "weather"
   ]
  },
  {
   "cell_type": "code",
   "execution_count": null,
   "metadata": {},
   "outputs": [],
   "source": [
    "faker"
   ]
  },
  {
   "cell_type": "code",
   "execution_count": null,
   "metadata": {},
   "outputs": [],
   "source": [
    "df_filtered_chicago = weather[weather['location'] == 'Hanoi']\n",
    "df_filtered_dallas = weather[weather['location'] == 'Ho Chi Minh City']\n"
   ]
  },
  {
   "cell_type": "code",
   "execution_count": null,
   "metadata": {},
   "outputs": [],
   "source": [
    "sns.lineplot(data=weather, x=\"forecast_timestamp\", y=\"temp\", hue=\"location\")\n",
    "plt.xlabel('Timestamp')\n",
    "plt.ylabel('Temperature (Kelvin)')\n",
    "plt.title('Temperature over time in Hanoi and Ho Chi Minh City')\n"
   ]
  },
  {
   "cell_type": "code",
   "execution_count": null,
   "metadata": {},
   "outputs": [],
   "source": [
    "sns.lineplot(data=weather, x=\"forecast_timestamp\", y=\"wind\", hue='location')\n",
    "plt.xlabel('Timestamp')\n",
    "plt.ylabel('wind')\n",
    "plt.title('Wind over time in Hanoi and Ho Chi Minh City')\n"
   ]
  }
 ],
 "metadata": {
  "kernelspec": {
   "display_name": "Python 3",
   "language": "python",
   "name": "python3"
  },
  "language_info": {
   "codemirror_mode": {
    "name": "ipython",
    "version": 3
   },
   "file_extension": ".py",
   "mimetype": "text/x-python",
   "name": "python",
   "nbconvert_exporter": "python",
   "pygments_lexer": "ipython3",
   "version": "3.10.11"
  }
 },
 "nbformat": 4,
 "nbformat_minor": 4
}
